{
 "cells": [
  {
   "cell_type": "markdown",
   "metadata": {},
   "source": [
    "# Sampling and sampling distributions"
   ]
  },
  {
   "cell_type": "markdown",
   "metadata": {},
   "source": [
    "### The problem\n",
    "* our experiences are finite and limited, so most decisions we make are based on incomplete information\n",
    "* can we evaluate the quality of the knowledge based on incomplete information?\n",
    "* can we analyze how our knowledge would have been with another sample?\n",
    "* *what is sampling distribution?*\n",
    "    * What is the outcome of the sample if we can repeat again and again and again...?\n",
    "* how will sampling distributions help us make good decisions based on incomplete information?\n",
    "\n",
    "### Estimation\n",
    "* an estimator is a numerical quanitty calculated on a sample and we hope it is a good approximation of a certain amount with the same meaning in the population (parameter)\n",
    "* we work with estimators whenever we took samples from a population and assumed that means, etc... were close to those of the population\n",
    "* for a population mean:\n",
    "    * 'the best' is the sample mean\n",
    "* it should be described by what we mean by the term \"best estimate\" (no bias, precision, accuracy...)\n",
    "\n",
    "### What happens when the sample differs from the population?\n",
    "* Sampling error: the discrepancy or amount of error between a sample statistic and its corresponding population parameter\n",
    "* 2 separate sampless from the same population will probably differ:\n",
    "    * different individual\n",
    "    * different scores\n",
    "    * different sample means\n",
    "\n",
    "### Predicting the characteristics of a sample\n",
    "* Distribution of sample means: the collection of sample means for <u>**all**</u> the possible random samples of a <u>**particular**</u> size (n) that can be obtained from a population\n",
    "    * while we're using for means, it can also be done for other statistics\n",
    "* distribution of sample means are statistics, not single scores\n",
    "* sampling distribution: a distribution of statistics obtained by selecting all the possible samples of a specific size from a population\n",
    "\n",
    "FYI: to underline text you can use \\<u>text\\</u>\n",
    "\n",
    "#### Example\n",
    "Imagine we have an infinite population with only the following values: 2, 4, 6, and 8. The four values have the same probability of occurring.\n",
    "\n",
    "**Draw the frequency for this population. \n",
    "What is the mean of the population?**\n",
    "\n",
    "* All values will be at 25% since they have the same probability of occurring. \n",
    "* The mean is 5 because 2, 4, 6, and 8 occur at the same frequencies, so 2 + 4 + 6 + 8 = 20 and 20 / 4 = 5.\n",
    "\n",
    "If I get sample of n=2 what will be the distribution of sample means?"
   ]
  },
  {
   "cell_type": "code",
   "execution_count": 1,
   "metadata": {},
   "outputs": [
    {
     "name": "stdout",
     "output_type": "stream",
     "text": [
      "NumPy: 1.18.5\n"
     ]
    }
   ],
   "source": [
    "import numpy as np\n",
    "print('NumPy:', np.__version__)"
   ]
  },
  {
   "cell_type": "code",
   "execution_count": 31,
   "metadata": {},
   "outputs": [
    {
     "name": "stdout",
     "output_type": "stream",
     "text": [
      "Sample      1   2   Sample mean\n",
      "===============================\n",
      "Sample  1 : 2   2   2.0\n",
      "Sample  2 : 2   4   3.0\n",
      "Sample  3 : 2   6   4.0\n",
      "Sample  4 : 2   8   5.0\n",
      "Sample  5 : 4   2   3.0\n",
      "Sample  6 : 4   4   4.0\n",
      "Sample  7 : 4   6   5.0\n",
      "Sample  8 : 4   8   6.0\n",
      "Sample  9 : 6   2   4.0\n",
      "Sample  10 : 6   4   5.0\n",
      "Sample  11 : 6   6   6.0\n",
      "Sample  12 : 6   8   7.0\n",
      "Sample  13 : 8   2   5.0\n",
      "Sample  14 : 8   4   6.0\n",
      "Sample  15 : 8   6   7.0\n",
      "Sample  16 : 8   8   8.0\n"
     ]
    }
   ],
   "source": [
    "exlist = [2, 4, 6, 8]\n",
    "exarray = np.array(exlist)\n",
    "count = 0\n",
    "count1 = 0\n",
    "count2 = 0\n",
    "print('Sample      1   2   Sample mean')\n",
    "print('===============================')\n",
    "while (count1 < 4):\n",
    "    while (count < 4):\n",
    "        print('Sample ', count2 + 1, ':', exarray[count1], ' ', exarray[count], ' ', (exarray[count1] + exarray[count])/2)\n",
    "        count = count + 1\n",
    "        count2 = count2 + 1\n",
    "    count = 0\n",
    "    count1 = count1 + 1"
   ]
  },
  {
   "cell_type": "markdown",
   "metadata": {},
   "source": [
    "So there are 16 possible means, and of these means, the mean is still 5; the most frequent mean, 5, is also the overall mean. So by plotting these means in a bar graph, we get the sampling distribution. "
   ]
  },
  {
   "cell_type": "markdown",
   "metadata": {},
   "source": [
    "### Our first observations about sample means\n",
    "* Sample means tend to pile up around the population mean\n",
    "* the distribution of sample means is approximately normal in shape\n",
    "* <u>the distribution of sample means can be used to answer probability about sample means</u>\n",
    "    * *What is the probability of observing a mean of 8 in the previous example?*\n",
    "* <u>can be used to have an estimate of the error associated with sample mean</u>\n",
    "    * *Any idea of the error in the previous example?*\n"
   ]
  }
 ],
 "metadata": {
  "kernelspec": {
   "display_name": "Python 3",
   "language": "python",
   "name": "python3"
  },
  "language_info": {
   "codemirror_mode": {
    "name": "ipython",
    "version": 3
   },
   "file_extension": ".py",
   "mimetype": "text/x-python",
   "name": "python",
   "nbconvert_exporter": "python",
   "pygments_lexer": "ipython3",
   "version": "3.8.3"
  }
 },
 "nbformat": 4,
 "nbformat_minor": 4
}
